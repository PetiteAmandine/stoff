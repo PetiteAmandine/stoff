{
 "cells": [
  {
   "cell_type": "code",
   "execution_count": 3,
   "metadata": {
    "collapsed": true
   },
   "outputs": [],
   "source": [
    "uno=\"1\""
   ]
  },
  {
   "cell_type": "code",
   "execution_count": 4,
   "metadata": {
    "collapsed": true
   },
   "outputs": [],
   "source": [
    "cero=\"0\"*100"
   ]
  },
  {
   "cell_type": "code",
   "execution_count": 5,
   "metadata": {},
   "outputs": [
    {
     "data": {
      "text/plain": [
       "'10000000000000000000000000000000000000000000000000000000000000000000000000000000000000000000000000000'"
      ]
     },
     "execution_count": 5,
     "metadata": {},
     "output_type": "execute_result"
    }
   ],
   "source": [
    "uno+cero"
   ]
  },
  {
   "cell_type": "code",
   "execution_count": 6,
   "metadata": {},
   "outputs": [
    {
     "name": "stdout",
     "output_type": "stream",
     "text": [
      "10000000000000000000000000000000000000000000000000000000000000000000000000000000000000000000000000000\n"
     ]
    }
   ],
   "source": [
    "print(\"1\" + \"0\"*100)"
   ]
  },
  {
   "cell_type": "code",
   "execution_count": 8,
   "metadata": {},
   "outputs": [
    {
     "data": {
      "text/plain": [
       "str"
      ]
     },
     "execution_count": 8,
     "metadata": {},
     "output_type": "execute_result"
    }
   ],
   "source": [
    "type(uno)"
   ]
  },
  {
   "cell_type": "code",
   "execution_count": 9,
   "metadata": {
    "collapsed": true
   },
   "outputs": [],
   "source": [
    "type(uno);"
   ]
  },
  {
   "cell_type": "code",
   "execution_count": 10,
   "metadata": {},
   "outputs": [
    {
     "data": {
      "text/plain": [
       "'10000000000000000000000000000000000000000000000000000000000000000000000000000000000000000000000000000'"
      ]
     },
     "execution_count": 10,
     "metadata": {},
     "output_type": "execute_result"
    }
   ],
   "source": [
    "\"1\"+\"0\"*100"
   ]
  },
  {
   "cell_type": "code",
   "execution_count": 11,
   "metadata": {
    "collapsed": true
   },
   "outputs": [],
   "source": [
    "gugol=int(uno+cero)"
   ]
  },
  {
   "cell_type": "code",
   "execution_count": 13,
   "metadata": {},
   "outputs": [
    {
     "data": {
      "text/plain": [
       "10000000000000000000000000000000000000000000000000000000000000000000000000000000000000000000000000000"
      ]
     },
     "execution_count": 13,
     "metadata": {},
     "output_type": "execute_result"
    }
   ],
   "source": [
    "gugol"
   ]
  },
  {
   "cell_type": "code",
   "execution_count": 18,
   "metadata": {},
   "outputs": [
    {
     "name": "stdout",
     "output_type": "stream",
     "text": [
      "¡Éxito!\n"
     ]
    }
   ],
   "source": [
    "num=gugol;\n",
    "if num==gugol:\n",
    "    print(\"¡Éxito!\")\n",
    "else:\n",
    "        print(\"Fracaso :(\")"
   ]
  },
  {
   "cell_type": "code",
   "execution_count": 24,
   "metadata": {},
   "outputs": [
    {
     "name": "stdout",
     "output_type": "stream",
     "text": [
      "10\n",
      "100\n",
      "1000\n",
      "10000\n",
      "100000\n",
      "1000000\n",
      "10000000\n",
      "100000000\n",
      "1000000000\n",
      "10000000000\n",
      "100000000000\n",
      "1000000000000\n",
      "10000000000000\n",
      "100000000000000\n",
      "1000000000000000\n",
      "10000000000000000\n",
      "100000000000000000\n",
      "1000000000000000000\n",
      "10000000000000000000\n",
      "100000000000000000000\n",
      "1000000000000000000000\n",
      "10000000000000000000000\n",
      "100000000000000000000000\n",
      "1000000000000000000000000\n",
      "10000000000000000000000000\n",
      "100000000000000000000000000\n",
      "1000000000000000000000000000\n",
      "10000000000000000000000000000\n",
      "100000000000000000000000000000\n",
      "1000000000000000000000000000000\n",
      "10000000000000000000000000000000\n",
      "100000000000000000000000000000000\n",
      "1000000000000000000000000000000000\n",
      "10000000000000000000000000000000000\n",
      "100000000000000000000000000000000000\n",
      "1000000000000000000000000000000000000\n",
      "10000000000000000000000000000000000000\n",
      "100000000000000000000000000000000000000\n",
      "1000000000000000000000000000000000000000\n",
      "10000000000000000000000000000000000000000\n",
      "100000000000000000000000000000000000000000\n",
      "1000000000000000000000000000000000000000000\n",
      "10000000000000000000000000000000000000000000\n",
      "100000000000000000000000000000000000000000000\n",
      "1000000000000000000000000000000000000000000000\n",
      "10000000000000000000000000000000000000000000000\n",
      "100000000000000000000000000000000000000000000000\n",
      "1000000000000000000000000000000000000000000000000\n",
      "10000000000000000000000000000000000000000000000000\n",
      "100000000000000000000000000000000000000000000000000\n",
      "1000000000000000000000000000000000000000000000000000\n",
      "10000000000000000000000000000000000000000000000000000\n",
      "100000000000000000000000000000000000000000000000000000\n",
      "1000000000000000000000000000000000000000000000000000000\n",
      "10000000000000000000000000000000000000000000000000000000\n",
      "100000000000000000000000000000000000000000000000000000000\n",
      "1000000000000000000000000000000000000000000000000000000000\n",
      "10000000000000000000000000000000000000000000000000000000000\n",
      "100000000000000000000000000000000000000000000000000000000000\n",
      "1000000000000000000000000000000000000000000000000000000000000\n",
      "10000000000000000000000000000000000000000000000000000000000000\n",
      "100000000000000000000000000000000000000000000000000000000000000\n",
      "1000000000000000000000000000000000000000000000000000000000000000\n",
      "10000000000000000000000000000000000000000000000000000000000000000\n",
      "100000000000000000000000000000000000000000000000000000000000000000\n",
      "1000000000000000000000000000000000000000000000000000000000000000000\n",
      "10000000000000000000000000000000000000000000000000000000000000000000\n",
      "100000000000000000000000000000000000000000000000000000000000000000000\n",
      "1000000000000000000000000000000000000000000000000000000000000000000000\n",
      "10000000000000000000000000000000000000000000000000000000000000000000000\n",
      "100000000000000000000000000000000000000000000000000000000000000000000000\n",
      "1000000000000000000000000000000000000000000000000000000000000000000000000\n",
      "10000000000000000000000000000000000000000000000000000000000000000000000000\n",
      "100000000000000000000000000000000000000000000000000000000000000000000000000\n",
      "1000000000000000000000000000000000000000000000000000000000000000000000000000\n",
      "10000000000000000000000000000000000000000000000000000000000000000000000000000\n",
      "100000000000000000000000000000000000000000000000000000000000000000000000000000\n",
      "1000000000000000000000000000000000000000000000000000000000000000000000000000000\n",
      "10000000000000000000000000000000000000000000000000000000000000000000000000000000\n",
      "100000000000000000000000000000000000000000000000000000000000000000000000000000000\n",
      "1000000000000000000000000000000000000000000000000000000000000000000000000000000000\n",
      "10000000000000000000000000000000000000000000000000000000000000000000000000000000000\n",
      "100000000000000000000000000000000000000000000000000000000000000000000000000000000000\n",
      "1000000000000000000000000000000000000000000000000000000000000000000000000000000000000\n",
      "10000000000000000000000000000000000000000000000000000000000000000000000000000000000000\n",
      "100000000000000000000000000000000000000000000000000000000000000000000000000000000000000\n",
      "1000000000000000000000000000000000000000000000000000000000000000000000000000000000000000\n",
      "10000000000000000000000000000000000000000000000000000000000000000000000000000000000000000\n",
      "100000000000000000000000000000000000000000000000000000000000000000000000000000000000000000\n",
      "1000000000000000000000000000000000000000000000000000000000000000000000000000000000000000000\n",
      "10000000000000000000000000000000000000000000000000000000000000000000000000000000000000000000\n",
      "100000000000000000000000000000000000000000000000000000000000000000000000000000000000000000000\n",
      "1000000000000000000000000000000000000000000000000000000000000000000000000000000000000000000000\n",
      "10000000000000000000000000000000000000000000000000000000000000000000000000000000000000000000000\n",
      "100000000000000000000000000000000000000000000000000000000000000000000000000000000000000000000000\n",
      "1000000000000000000000000000000000000000000000000000000000000000000000000000000000000000000000000\n",
      "10000000000000000000000000000000000000000000000000000000000000000000000000000000000000000000000000\n",
      "100000000000000000000000000000000000000000000000000000000000000000000000000000000000000000000000000\n",
      "1000000000000000000000000000000000000000000000000000000000000000000000000000000000000000000000000000\n",
      "10000000000000000000000000000000000000000000000000000000000000000000000000000000000000000000000000000\n"
     ]
    }
   ],
   "source": [
    "num=1\n",
    "while num!=gugol:\n",
    "    num=int(str(num) + \"0\")\n",
    "    print(num)"
   ]
  },
  {
   "cell_type": "code",
   "execution_count": 39,
   "metadata": {
    "collapsed": true
   },
   "outputs": [],
   "source": [
    "def ponle_ceros(n, numero_ceros):\n",
    "    n_obj = str(n)\n",
    "    while (n_obj != str(n) + \"0\"*numero_ceros):\n",
    "        n_obj += \"0\"\n",
    "    return int(n_obj)"
   ]
  },
  {
   "cell_type": "code",
   "execution_count": 40,
   "metadata": {},
   "outputs": [
    {
     "data": {
      "text/plain": [
       "10000000000000000000000000000000000000000000000000000000000000000000000000000000000000000000000000000"
      ]
     },
     "execution_count": 40,
     "metadata": {},
     "output_type": "execute_result"
    }
   ],
   "source": [
    "ponle_ceros(1,100)"
   ]
  },
  {
   "cell_type": "code",
   "execution_count": 55,
   "metadata": {
    "collapsed": true
   },
   "outputs": [],
   "source": [
    "def imprime_lista(lis):\n",
    "    l=int(len(lis))\n",
    "    for i in range (0,l):\n",
    "        print(lis[i])"
   ]
  },
  {
   "cell_type": "code",
   "execution_count": 43,
   "metadata": {
    "collapsed": true
   },
   "outputs": [],
   "source": [
    "lista=[\"Qué\", \"feo\", \"día\", \":(\"]"
   ]
  },
  {
   "cell_type": "code",
   "execution_count": 56,
   "metadata": {},
   "outputs": [
    {
     "name": "stdout",
     "output_type": "stream",
     "text": [
      "Qué\n",
      "feo\n",
      "día\n",
      ":(\n"
     ]
    }
   ],
   "source": [
    "imprime_lista(lista)"
   ]
  },
  {
   "cell_type": "code",
   "execution_count": 3,
   "metadata": {
    "collapsed": true
   },
   "outputs": [],
   "source": [
    "def cuantos_comparten_inicial(lis_nom):\n",
    "    iniciales = []\n",
    "    cuenta=0\n",
    "    for n in lis_nom:\n",
    "        iniciales.append(n[0])\n",
    "    set_ini = set(iniciales)\n",
    "    lis_set_ini = list(set_ini)\n",
    "    l_set = len(lis_set_ini)\n",
    "    l_ini = len(iniciales)\n",
    "    for i in  range (0, l_set):\n",
    "        for j in range (0, l_ini):\n",
    "            if lis_set_ini[i] == iniciales[j]:\n",
    "                cuenta = cuenta + 1\n",
    "        print(lis_set_ini[i] + \": \", cuenta)\n",
    "        j=0\n",
    "        cuenta=0"
   ]
  },
  {
   "cell_type": "code",
   "execution_count": 178,
   "metadata": {
    "collapsed": true
   },
   "outputs": [],
   "source": [
    "lista=[\"Amandine\", \"Amanda\", \"David\", \"Dorian\", \"Angela\", \"Miguel\"]"
   ]
  },
  {
   "cell_type": "code",
   "execution_count": 181,
   "metadata": {},
   "outputs": [
    {
     "name": "stdout",
     "output_type": "stream",
     "text": [
      "['A', 'A', 'D', 'D', 'A', 'M']\n",
      "['M', 'D', 'A']\n",
      "M:  1\n",
      "D:  2\n",
      "A:  3\n"
     ]
    }
   ],
   "source": [
    "cuantos_comparten_inicial(lista)"
   ]
  },
  {
   "cell_type": "code",
   "execution_count": 1,
   "metadata": {
    "collapsed": true
   },
   "outputs": [],
   "source": [
    "listilla=[\"Felipilla\", \"Azucena\", \"Azúcar\", \"Thelma\", \"Patricia\", \"Martina\", \"Federica\"]"
   ]
  },
  {
   "cell_type": "code",
   "execution_count": 4,
   "metadata": {},
   "outputs": [
    {
     "name": "stdout",
     "output_type": "stream",
     "text": [
      "T:  1\n",
      "P:  1\n",
      "F:  2\n",
      "M:  1\n",
      "A:  2\n"
     ]
    }
   ],
   "source": [
    "cuantos_comparten_inicial(listilla)"
   ]
  },
  {
   "cell_type": "code",
   "execution_count": 56,
   "metadata": {},
   "outputs": [],
   "source": [
    "dic = {1: {'desc': 'carita feliz', 'dib': ':)'}, \n",
    "       2: {'desc': 'carita triste', 'dib': ':('}, \n",
    "       3: {'desc': 'carita sorprendida', 'dib': ':0'}, \n",
    "       4: {'desc': 'carita de beso', 'dib': ':*'}, \n",
    "       5: {'desc': 'carita de pacman', 'dib': ':v'}\n",
    "}"
   ]
  },
  {
   "cell_type": "code",
   "execution_count": 58,
   "metadata": {},
   "outputs": [
    {
     "data": {
      "text/plain": [
       "'carita de pacman'"
      ]
     },
     "execution_count": 58,
     "metadata": {},
     "output_type": "execute_result"
    }
   ],
   "source": [
    "dic[5]['desc']"
   ]
  },
  {
   "cell_type": "code",
   "execution_count": 31,
   "metadata": {},
   "outputs": [
    {
     "data": {
      "text/plain": [
       "dict_keys([1, 2, 3, 4, 5])"
      ]
     },
     "execution_count": 31,
     "metadata": {},
     "output_type": "execute_result"
    }
   ],
   "source": [
    "dic.keys()"
   ]
  },
  {
   "cell_type": "code",
   "execution_count": 32,
   "metadata": {},
   "outputs": [
    {
     "data": {
      "text/plain": [
       "dict_values([':)', ':(', 'carita ambigua', ':*', ':v'])"
      ]
     },
     "execution_count": 32,
     "metadata": {},
     "output_type": "execute_result"
    }
   ],
   "source": [
    "dic.values()"
   ]
  },
  {
   "cell_type": "code",
   "execution_count": 41,
   "metadata": {},
   "outputs": [
    {
     "name": "stdout",
     "output_type": "stream",
     "text": [
      "{'desc': 'carita feliz', 'dib': ':)'}\n",
      ":(\n",
      ":0\n",
      ":*\n",
      ":v\n"
     ]
    }
   ],
   "source": [
    "for k in dic.keys():\n",
    "    print(dic[k])"
   ]
  },
  {
   "cell_type": "code",
   "execution_count": 42,
   "metadata": {
    "collapsed": true
   },
   "outputs": [],
   "source": [
    "archivo = open('datos/untitled.txt')\n",
    "palabras = archivo.read()\n",
    "archivo.close()"
   ]
  },
  {
   "cell_type": "code",
   "execution_count": 44,
   "metadata": {},
   "outputs": [
    {
     "name": "stdout",
     "output_type": "stream",
     "text": [
      "Shaggy\n",
      "Vandammit\n"
     ]
    }
   ],
   "source": [
    "print(palabras)"
   ]
  },
  {
   "cell_type": "code",
   "execution_count": 46,
   "metadata": {},
   "outputs": [
    {
     "data": {
      "text/plain": [
       "['Shaggy', 'Vandammit']"
      ]
     },
     "execution_count": 46,
     "metadata": {},
     "output_type": "execute_result"
    }
   ],
   "source": [
    "palabras.split('\\n')"
   ]
  },
  {
   "cell_type": "code",
   "execution_count": 48,
   "metadata": {},
   "outputs": [],
   "source": [
    "archivo = open('datos/untitled.txt')\n",
    "palabras = archivo.readlines()\n",
    "archivo.close()"
   ]
  },
  {
   "cell_type": "code",
   "execution_count": 49,
   "metadata": {},
   "outputs": [
    {
     "name": "stdout",
     "output_type": "stream",
     "text": [
      "['Shaggy\\n', 'Vandammit']\n"
     ]
    }
   ],
   "source": [
    "print(palabras)"
   ]
  },
  {
   "cell_type": "code",
   "execution_count": 51,
   "metadata": {},
   "outputs": [
    {
     "name": "stdout",
     "output_type": "stream",
     "text": [
      "['Shaggy\\n', 'Vandammit']\n"
     ]
    }
   ],
   "source": [
    "with open('datos/untitled.txt') as f:\n",
    "    nombres = f.readlines()\n",
    "print(nombres)"
   ]
  },
  {
   "cell_type": "code",
   "execution_count": 53,
   "metadata": {
    "collapsed": true
   },
   "outputs": [],
   "source": [
    "\n",
    "with open('datos/resultado.txt', 'w') as f:\n",
    "    f.write('Hola. \\n')\n",
    "    f.write('Shaggy, eres muy vandammit.')"
   ]
  },
  {
   "cell_type": "code",
   "execution_count": 55,
   "metadata": {
    "collapsed": true
   },
   "outputs": [],
   "source": [
    "with open('datos/resultado.txt', 'a') as f:\n",
    "    f.write('\\n<3')"
   ]
  },
  {
   "cell_type": "code",
   "execution_count": 60,
   "metadata": {
    "collapsed": true
   },
   "outputs": [],
   "source": [
    "with open('datos/caritas.txt', 'w') as f:\n",
    "    for k in dic.keys():\n",
    "        f.write('La ' + dic[k]['desc'] + ' se representa como ' + dic[k]['dib'] + '\\n')"
   ]
  },
  {
   "cell_type": "code",
   "execution_count": null,
   "metadata": {
    "collapsed": true
   },
   "outputs": [],
   "source": []
  }
 ],
 "metadata": {
  "kernelspec": {
   "display_name": "Python 3",
   "language": "python",
   "name": "python3"
  },
  "language_info": {
   "codemirror_mode": {
    "name": "ipython",
    "version": 3
   },
   "file_extension": ".py",
   "mimetype": "text/x-python",
   "name": "python",
   "nbconvert_exporter": "python",
   "pygments_lexer": "ipython3",
   "version": "3.6.1"
  }
 },
 "nbformat": 4,
 "nbformat_minor": 2
}
