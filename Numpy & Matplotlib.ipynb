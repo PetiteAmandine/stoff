{
 "cells": [
  {
   "cell_type": "code",
   "execution_count": 1,
   "metadata": {
    "collapsed": true
   },
   "outputs": [],
   "source": [
    "import numpy as np"
   ]
  },
  {
   "cell_type": "code",
   "execution_count": 2,
   "metadata": {},
   "outputs": [
    {
     "data": {
      "text/plain": [
       "array([1, 2, 3, 4])"
      ]
     },
     "execution_count": 2,
     "metadata": {},
     "output_type": "execute_result"
    }
   ],
   "source": [
    "#array a base de lista\n",
    "np.array([1,2,3,4])"
   ]
  },
  {
   "cell_type": "code",
   "execution_count": 12,
   "metadata": {},
   "outputs": [
    {
     "data": {
      "text/plain": [
       "27"
      ]
     },
     "execution_count": 12,
     "metadata": {},
     "output_type": "execute_result"
    }
   ],
   "source": [
    "#random entre 0 y 1\n",
    "np.random.rand(3)\n",
    "#random entero menor al parámetro / entre dos parámetros\n",
    "np.random.randint(17, 40)"
   ]
  },
  {
   "cell_type": "code",
   "execution_count": 5,
   "metadata": {},
   "outputs": [
    {
     "data": {
      "text/plain": [
       "array([ 0.,  0.,  0.,  0.,  0.])"
      ]
     },
     "execution_count": 5,
     "metadata": {},
     "output_type": "execute_result"
    }
   ],
   "source": [
    "np.zeros(5)"
   ]
  },
  {
   "cell_type": "code",
   "execution_count": 6,
   "metadata": {},
   "outputs": [
    {
     "data": {
      "text/plain": [
       "array([ 1.,  1.,  1.,  1.,  1.])"
      ]
     },
     "execution_count": 6,
     "metadata": {},
     "output_type": "execute_result"
    }
   ],
   "source": [
    "np.ones(5)"
   ]
  },
  {
   "cell_type": "code",
   "execution_count": 7,
   "metadata": {},
   "outputs": [
    {
     "data": {
      "text/plain": [
       "array([[ 0.,  0.,  0.],\n",
       "       [ 0.,  0.,  0.],\n",
       "       [ 0.,  0.,  0.]])"
      ]
     },
     "execution_count": 7,
     "metadata": {},
     "output_type": "execute_result"
    }
   ],
   "source": [
    "np.zeros([3,3])"
   ]
  },
  {
   "cell_type": "code",
   "execution_count": 8,
   "metadata": {},
   "outputs": [
    {
     "data": {
      "text/plain": [
       "array([[ 1.,  1.,  1.,  1.],\n",
       "       [ 1.,  1.,  1.,  1.],\n",
       "       [ 1.,  1.,  1.,  1.]])"
      ]
     },
     "execution_count": 8,
     "metadata": {},
     "output_type": "execute_result"
    }
   ],
   "source": [
    "np.ones([3,4])"
   ]
  },
  {
   "cell_type": "code",
   "execution_count": 13,
   "metadata": {},
   "outputs": [
    {
     "data": {
      "text/plain": [
       "array([[[ 0.,  0.,  0.],\n",
       "        [ 0.,  0.,  0.],\n",
       "        [ 0.,  0.,  0.]],\n",
       "\n",
       "       [[ 0.,  0.,  0.],\n",
       "        [ 0.,  0.,  0.],\n",
       "        [ 0.,  0.,  0.]],\n",
       "\n",
       "       [[ 0.,  0.,  0.],\n",
       "        [ 0.,  0.,  0.],\n",
       "        [ 0.,  0.,  0.]]])"
      ]
     },
     "execution_count": 13,
     "metadata": {},
     "output_type": "execute_result"
    }
   ],
   "source": [
    "np.zeros([3,3,3])"
   ]
  },
  {
   "cell_type": "code",
   "execution_count": 14,
   "metadata": {},
   "outputs": [
    {
     "data": {
      "text/plain": [
       "array([[ 10.,  10.],\n",
       "       [ 10.,  10.]])"
      ]
     },
     "execution_count": 14,
     "metadata": {},
     "output_type": "execute_result"
    }
   ],
   "source": [
    "10*np.ones([2,2])"
   ]
  },
  {
   "cell_type": "code",
   "execution_count": 18,
   "metadata": {},
   "outputs": [
    {
     "name": "stdout",
     "output_type": "stream",
     "text": [
      "[ 0  1  2  3  4  5  6  7  8  9 10 11 12 13 14 15 16 17 18 19 20 21 22 23 24\n",
      " 25 26 27 28 29]\n"
     ]
    }
   ],
   "source": [
    "A = np.array(range(0,30)) #devuelve un array con valores delimitados\n",
    "print(A)"
   ]
  },
  {
   "cell_type": "code",
   "execution_count": 20,
   "metadata": {},
   "outputs": [
    {
     "data": {
      "text/plain": [
       "(30,)"
      ]
     },
     "execution_count": 20,
     "metadata": {},
     "output_type": "execute_result"
    }
   ],
   "source": [
    "#devuelve el tamaño del array\n",
    "A.shape"
   ]
  },
  {
   "cell_type": "code",
   "execution_count": 23,
   "metadata": {},
   "outputs": [
    {
     "name": "stdout",
     "output_type": "stream",
     "text": [
      "[[ 0  1  2  3  4]\n",
      " [ 5  6  7  8  9]\n",
      " [10 11 12 13 14]\n",
      " [15 16 17 18 19]\n",
      " [20 21 22 23 24]\n",
      " [25 26 27 28 29]]\n"
     ]
    }
   ],
   "source": [
    "#cambia la estructura (forma) del array\n",
    "B = A.reshape([6,5])\n",
    "print(B)"
   ]
  },
  {
   "cell_type": "code",
   "execution_count": 26,
   "metadata": {},
   "outputs": [
    {
     "name": "stdout",
     "output_type": "stream",
     "text": [
      "[[ 0  5 10 15 20 25]\n",
      " [ 1  6 11 16 21 26]\n",
      " [ 2  7 12 17 22 27]\n",
      " [ 3  8 13 18 23 28]\n",
      " [ 4  9 14 19 24 29]]\n"
     ]
    }
   ],
   "source": [
    "C=B.transpose()\n",
    "print(C)"
   ]
  },
  {
   "cell_type": "code",
   "execution_count": 27,
   "metadata": {},
   "outputs": [
    {
     "data": {
      "text/plain": [
       "array([ 1,  6, 11, 16, 21, 26])"
      ]
     },
     "execution_count": 27,
     "metadata": {},
     "output_type": "execute_result"
    }
   ],
   "source": [
    "C[1,:]"
   ]
  },
  {
   "cell_type": "code",
   "execution_count": 29,
   "metadata": {},
   "outputs": [
    {
     "data": {
      "text/plain": [
       "True"
      ]
     },
     "execution_count": 29,
     "metadata": {},
     "output_type": "execute_result"
    }
   ],
   "source": [
    "16 == C[1,3]"
   ]
  },
  {
   "cell_type": "code",
   "execution_count": 33,
   "metadata": {},
   "outputs": [
    {
     "data": {
      "text/plain": [
       "array([[16, 21],\n",
       "       [17, 22]])"
      ]
     },
     "execution_count": 33,
     "metadata": {},
     "output_type": "execute_result"
    }
   ],
   "source": [
    "C[1:3, 3:5]"
   ]
  },
  {
   "cell_type": "code",
   "execution_count": 37,
   "metadata": {},
   "outputs": [
    {
     "name": "stdout",
     "output_type": "stream",
     "text": [
      "[[ 0  5 10 15 20 70]\n",
      " [ 1  6 11 16 21 26]\n",
      " [ 2  7 12 17 22 27]\n",
      " [ 3  8 13 18 23 28]\n",
      " [ 4  9 14 19 24 29]]\n"
     ]
    }
   ],
   "source": [
    "C[0,5] = 70\n",
    "print(C)"
   ]
  },
  {
   "cell_type": "code",
   "execution_count": 44,
   "metadata": {},
   "outputs": [
    {
     "data": {
      "text/plain": [
       "array([120,  81,  87,  93,  99])"
      ]
     },
     "execution_count": 44,
     "metadata": {},
     "output_type": "execute_result"
    }
   ],
   "source": [
    "C.sum(axis=0) #suma a través de columnas\n",
    "C.sum(axis=1) #suma a través de renglones"
   ]
  },
  {
   "cell_type": "code",
   "execution_count": 46,
   "metadata": {},
   "outputs": [
    {
     "name": "stdout",
     "output_type": "stream",
     "text": [
      "[ 0  6 12 18 24]\n"
     ]
    }
   ],
   "source": [
    "D = C.diagonal()\n",
    "print(D)"
   ]
  },
  {
   "cell_type": "code",
   "execution_count": 58,
   "metadata": {},
   "outputs": [],
   "source": [
    "#suma los renglones de cada columna de una lista de forma (n,2)\n",
    "def suma_columnas (lista):\n",
    "    suma1 = 0\n",
    "    suma2 = 0\n",
    "    for ren in lista:\n",
    "        suma1 = suma1 + ren[0]\n",
    "        suma2 = suma2 + ren[1]\n",
    "    return [suma1, suma2]"
   ]
  },
  {
   "cell_type": "code",
   "execution_count": 56,
   "metadata": {},
   "outputs": [
    {
     "name": "stdout",
     "output_type": "stream",
     "text": [
      "[[1, 2], [1, 2], [1, 2], [1, 2]]\n"
     ]
    }
   ],
   "source": [
    "lista = [[1,2], [1,2], [1,2], [1,2]]"
   ]
  },
  {
   "cell_type": "code",
   "execution_count": 59,
   "metadata": {},
   "outputs": [
    {
     "data": {
      "text/plain": [
       "[4, 8]"
      ]
     },
     "execution_count": 59,
     "metadata": {},
     "output_type": "execute_result"
    }
   ],
   "source": [
    "suma_columnas(lista)"
   ]
  },
  {
   "cell_type": "code",
   "execution_count": 60,
   "metadata": {
    "collapsed": true
   },
   "outputs": [],
   "source": [
    "import time"
   ]
  },
  {
   "cell_type": "code",
   "execution_count": 64,
   "metadata": {},
   "outputs": [
    {
     "data": {
      "text/plain": [
       "1.0051589012145996"
      ]
     },
     "execution_count": 64,
     "metadata": {},
     "output_type": "execute_result"
    }
   ],
   "source": [
    "ahora = time.time()\n",
    "time.sleep(1)\n",
    "time.time() - ahora"
   ]
  },
  {
   "cell_type": "code",
   "execution_count": 67,
   "metadata": {},
   "outputs": [],
   "source": [
    "tiempo_lista = []\n",
    "tiempo_array = []\n",
    "\n",
    "for i in [x*10 for x in range(1,1000)]:\n",
    "    # Se crean la lista y el arreglo\n",
    "    lista = [[1,2] for x in range(0,i)]\n",
    "    arreglo = np.array(lista)\n",
    "    \n",
    "    # Tiempo que toma la lista\n",
    "    inicio = time.time()\n",
    "    suma_columnas(lista)\n",
    "    tiempo_lista.append(time.time() - inicio)\n",
    "    \n",
    "    # Tiempo que toma el arreglo\n",
    "    inicio = time.time()\n",
    "    arreglo.sum(axis = 0)\n",
    "    tiempo_array.append(time.time() - inicio)"
   ]
  },
  {
   "cell_type": "code",
   "execution_count": 70,
   "metadata": {
    "collapsed": true
   },
   "outputs": [],
   "source": [
    "import matplotlib.pyplot as plt"
   ]
  },
  {
   "cell_type": "code",
   "execution_count": 73,
   "metadata": {},
   "outputs": [
    {
     "data": {
      "image/png": "[encoded data removed]",
      "text/plain": [
       "<matplotlib.figure.Figure at 0x10ff422e8>"
      ]
     },
     "metadata": {},
     "output_type": "display_data"
    }
   ],
   "source": [
    "plt.plot(tiempo_lista)\n",
    "plt.show()"
   ]
  },
  {
   "cell_type": "code",
   "execution_count": 76,
   "metadata": {},
   "outputs": [
    {
     "data": {
      "image/png": "[encoded data removed]",
      "text/plain": [
       "<matplotlib.figure.Figure at 0x11275c828>"
      ]
     },
     "metadata": {},
     "output_type": "display_data"
    }
   ],
   "source": [
    "plt.plot(tiempo_array)\n",
    "plt.show()"
   ]
  },
  {
   "cell_type": "code",
   "execution_count": 117,
   "metadata": {},
   "outputs": [
    {
     "data": {
      "image/png": "[encoded data removed]",
      "text/plain": [
       "<matplotlib.figure.Figure at 0x113104978>"
      ]
     },
     "metadata": {},
     "output_type": "display_data"
    }
   ],
   "source": [
    "color='#F5A9E1'\n",
    "plt.plot(tiempo_lista, 'm*')\n",
    "plt.plot(tiempo_array, color, marker='*')\n",
    "plt.show()"
   ]
  },
  {
   "cell_type": "code",
   "execution_count": 92,
   "metadata": {},
   "outputs": [
    {
     "name": "stdout",
     "output_type": "stream",
     "text": [
      "[ 0.          0.06346652  0.12693304  0.19039955  0.25386607  0.31733259\n",
      "  0.38079911  0.44426563  0.50773215  0.57119866  0.63466518  0.6981317\n",
      "  0.76159822  0.82506474  0.88853126  0.95199777  1.01546429  1.07893081\n",
      "  1.14239733  1.20586385  1.26933037  1.33279688  1.3962634   1.45972992\n",
      "  1.52319644  1.58666296  1.65012947  1.71359599  1.77706251  1.84052903\n",
      "  1.90399555  1.96746207  2.03092858  2.0943951   2.15786162  2.22132814\n",
      "  2.28479466  2.34826118  2.41172769  2.47519421  2.53866073  2.60212725\n",
      "  2.66559377  2.72906028  2.7925268   2.85599332  2.91945984  2.98292636\n",
      "  3.04639288  3.10985939  3.17332591  3.23679243  3.30025895  3.36372547\n",
      "  3.42719199  3.4906585   3.55412502  3.61759154  3.68105806  3.74452458\n",
      "  3.8079911   3.87145761  3.93492413  3.99839065  4.06185717  4.12532369\n",
      "  4.1887902   4.25225672  4.31572324  4.37918976  4.44265628  4.5061228\n",
      "  4.56958931  4.63305583  4.69652235  4.75998887  4.82345539  4.88692191\n",
      "  4.95038842  5.01385494  5.07732146  5.14078798  5.2042545   5.26772102\n",
      "  5.33118753  5.39465405  5.45812057  5.52158709  5.58505361  5.64852012\n",
      "  5.71198664  5.77545316  5.83891968  5.9023862   5.96585272  6.02931923\n",
      "  6.09278575  6.15625227  6.21971879  6.28318531]\n"
     ]
    }
   ],
   "source": [
    "x=np.linspace(0, 2*np.pi, 100)\n",
    "print(x)"
   ]
  },
  {
   "cell_type": "code",
   "execution_count": 96,
   "metadata": {
    "collapsed": true
   },
   "outputs": [],
   "source": [
    "y=np.sin(x)"
   ]
  },
  {
   "cell_type": "code",
   "execution_count": 101,
   "metadata": {},
   "outputs": [
    {
     "data": {
      "image/png": "[encoded data removed]",
      "text/plain": [
       "<matplotlib.figure.Figure at 0x112de8b38>"
      ]
     },
     "metadata": {},
     "output_type": "display_data"
    }
   ],
   "source": [
    "plt.plot(x,y, '.')\n",
    "plt.show()"
   ]
  },
  {
   "cell_type": "code",
   "execution_count": 128,
   "metadata": {},
   "outputs": [
    {
     "name": "stderr",
     "output_type": "stream",
     "text": [
      "/anaconda/lib/python3.6/site-packages/ipykernel_launcher.py:3: RuntimeWarning: divide by zero encountered in log\n",
      "  This is separate from the ipykernel package so we can avoid doing imports until\n"
     ]
    },
    {
     "data": {
      "image/png": "[encoded data removed]",
      "text/plain": [
       "<matplotlib.figure.Figure at 0x11302ac88>"
      ]
     },
     "metadata": {},
     "output_type": "display_data"
    }
   ],
   "source": [
    "x = np.linspace(0,3)\n",
    "ye = np.exp(x)\n",
    "yl = np.log(x)\n",
    "plt.plot(x,ye, color, marker='.')\n",
    "plt.plot(x,yl, 'b*')\n",
    "plt.show()"
   ]
  },
  {
   "cell_type": "code",
   "execution_count": 132,
   "metadata": {},
   "outputs": [
    {
     "data": {
      "text/plain": [
       "['\"\",\"year\",\"tfr\",\"partic\",\"degrees\",\"fconvict\",\"ftheft\",\"mconvict\",\"mtheft\"\\n',\n",
       " '\"1\",1931,3200,234,12.4,77.1,NA,778.7,NA\\n',\n",
       " '\"2\",1932,3084,234,12.9,92.9,NA,745.7,NA\\n',\n",
       " '\"3\",1933,2864,235,13.9,98.3,NA,768.3,NA\\n',\n",
       " '\"4\",1934,2803,237,13.6,88.1,NA,733.6,NA\\n',\n",
       " '\"5\",1935,2755,238,13.2,79.4,20.4,765.7,247.1\\n',\n",
       " '\"6\",1936,2696,240,13.2,91,22.1,816.5,254.9\\n',\n",
       " '\"7\",1937,2646,241,12.2,100.4,22.4,821.8,272.4\\n',\n",
       " '\"8\",1938,2701,242,12.6,108.9,21.8,956.8,285.8\\n',\n",
       " '\"9\",1939,2654,244,12.3,123.6,21.1,1035.7,292.2\\n',\n",
       " '\"10\",1940,2766,245,12,157.3,21.4,951.6,256\\n',\n",
       " '\"11\",1941,2832,246,11.7,154.3,25.3,850.9,205.8\\n',\n",
       " '\"12\",1942,2964,268,11.2,143.9,27.1,769.7,188\\n',\n",
       " '\"13\",1943,3041,333,11.5,147.5,29,811.2,205.8\\n',\n",
       " '\"14\",1944,3010,335,11.1,97.3,24.2,865.4,207.9\\n',\n",
       " '\"15\",1945,3018,331,12.5,76.6,24.7,866.8,197.8\\n',\n",
       " '\"16\",1946,3374,253,15,72.8,20.5,968,195.9\\n',\n",
       " '\"17\",1947,3545,243,17.6,68.9,20.7,894,198.9\\n',\n",
       " '\"18\",1948,3441,241,21.2,66.7,22.8,830.8,198.6\\n',\n",
       " '\"19\",1949,3456,242,22.7,55,18.5,811.2,216.1\\n',\n",
       " '\"20\",1950,3455,237,21.4,55,19.3,775.4,212\\n',\n",
       " '\"21\",1951,3503,242,20.7,55,20,739.8,208\\n',\n",
       " '\"22\",1952,3641,240,19.5,54.7,19.4,740.3,199.3\\n',\n",
       " '\"23\",1953,3721,233,36.6,47.9,16.1,725.1,176.4\\n',\n",
       " '\"24\",1954,3828,232,18.1,49,16.5,739.9,166.8\\n',\n",
       " '\"25\",1955,3831,236,17.7,44.4,15.2,663.8,179.7\\n',\n",
       " '\"26\",1956,3858,245,18.7,40.2,15.3,633.7,198.8\\n',\n",
       " '\"27\",1957,3925,256,20.8,43.8,17.1,716.5,262.5\\n',\n",
       " '\"28\",1958,3880,261,22.7,49.5,21.2,761,263.4\\n',\n",
       " '\"29\",1959,3935,265,24.6,50.4,22.3,665.3,253.6\\n',\n",
       " '\"30\",1960,3895,278,28.5,59.6,28.5,742.6,280.9\\n',\n",
       " '\"31\",1961,3840,291,31.3,72.4,34.4,789.8,290.9\\n',\n",
       " '\"32\",1962,3756,290,38,70.6,36,776.8,274.7\\n',\n",
       " '\"33\",1963,3669,290,42,82,43.8,842.2,296.9\\n',\n",
       " '\"34\",1964,3502,307,48.5,89.5,49.7,799.1,281.3\\n',\n",
       " '\"35\",1965,3145,313,59.2,101.3,58.6,763,264.2\\n',\n",
       " '\"36\",1966,2812,325,69.7,116.7,71.4,804.6,286.6\\n',\n",
       " '\"37\",1967,2586,339,80.4,115.2,70.6,781.1,272\\n',\n",
       " '\"38\",1968,2441,338,90.4,122.9,73,849.7,274.7\\n']"
      ]
     },
     "execution_count": 132,
     "metadata": {},
     "output_type": "execute_result"
    }
   ],
   "source": [
    "with open('datos/hartnagel.csv') as f:\n",
    "    delitos = f.readlines()\n",
    "delitos"
   ]
  },
  {
   "cell_type": "code",
   "execution_count": 133,
   "metadata": {},
   "outputs": [
    {
     "data": {
      "text/plain": [
       "['\"\"',\n",
       " '\"year\"',\n",
       " '\"tfr\"',\n",
       " '\"partic\"',\n",
       " '\"degrees\"',\n",
       " '\"fconvict\"',\n",
       " '\"ftheft\"',\n",
       " '\"mconvict\"',\n",
       " '\"mtheft\"\\n']"
      ]
     },
     "execution_count": 133,
     "metadata": {},
     "output_type": "execute_result"
    }
   ],
   "source": [
    "delitos[0].split(',')"
   ]
  },
  {
   "cell_type": "code",
   "execution_count": 135,
   "metadata": {},
   "outputs": [
    {
     "data": {
      "text/plain": [
       "'1931'"
      ]
     },
     "execution_count": 135,
     "metadata": {},
     "output_type": "execute_result"
    }
   ],
   "source": [
    "delitos[1].split(',')[1]"
   ]
  },
  {
   "cell_type": "code",
   "execution_count": 140,
   "metadata": {},
   "outputs": [
    {
     "data": {
      "text/plain": [
       "'778.7'"
      ]
     },
     "execution_count": 140,
     "metadata": {},
     "output_type": "execute_result"
    }
   ],
   "source": [
    "delitos[1].split(',')[7]"
   ]
  },
  {
   "cell_type": "code",
   "execution_count": 138,
   "metadata": {
    "collapsed": true
   },
   "outputs": [],
   "source": [
    "year = []\n",
    "male_convict = []\n",
    "female_convict = []\n",
    "for i in range (1, len(delitos)):\n",
    "    year.append(delitos[i].split(',')[1])\n",
    "    male_convict.append(delitos[i].split(',')[7])\n",
    "    female_convict.append(delitos[i].split(',')[5])\n"
   ]
  },
  {
   "cell_type": "code",
   "execution_count": 151,
   "metadata": {},
   "outputs": [],
   "source": [
    "year = np.array(year, dtype=int)"
   ]
  },
  {
   "cell_type": "code",
   "execution_count": 152,
   "metadata": {},
   "outputs": [],
   "source": [
    "male_convict = np.array(male_convict, dtype=np.double)"
   ]
  },
  {
   "cell_type": "code",
   "execution_count": 153,
   "metadata": {},
   "outputs": [],
   "source": [
    "female_convict = np.array(female_convict, dtype=np.double)"
   ]
  },
  {
   "cell_type": "code",
   "execution_count": 182,
   "metadata": {},
   "outputs": [
    {
     "data": {
      "image/png": "[encoded data removed]",
      "text/plain": [
       "<matplotlib.figure.Figure at 0x112906ac8>"
      ]
     },
     "metadata": {},
     "output_type": "display_data"
    }
   ],
   "source": [
    "plt.plot(year, np.log(male_convict), 'b.-', label = 'Male convictions')\n",
    "plt.plot(year, np.log(female_convict), color, marker='.', label = 'Female convictions')\n",
    "plt.legend()\n",
    "plt.suptitle('Convictions in Canada by year')\n",
    "plt.title('(logarithmic scale)')\n",
    "plt.xlabel('Year')\n",
    "plt.show()"
   ]
  },
  {
   "cell_type": "code",
   "execution_count": 184,
   "metadata": {},
   "outputs": [
    {
     "data": {
      "image/png": "[encoded data removed]",
      "text/plain": [
       "<matplotlib.figure.Figure at 0x11308eb00>"
      ]
     },
     "metadata": {},
     "output_type": "display_data"
    }
   ],
   "source": [
    "plt.subplot(1,2,1)\n",
    "plt.plot(year, np.log(male_convict), 'b.-')\n",
    "plt.title('Male convicts')\n",
    "plt.xlabel('Year')\n",
    "plt.ylim([3,7])\n",
    "\n",
    "plt.subplot(1,2,2)\n",
    "plt.plot(year, np.log(female_convict), color, marker = '.')\n",
    "plt.title('Female convicts')\n",
    "plt.xlabel('Year')\n",
    "plt.ylim([3,7])\n",
    "\n",
    "plt.show()"
   ]
  },
  {
   "cell_type": "code",
   "execution_count": 187,
   "metadata": {},
   "outputs": [
    {
     "name": "stderr",
     "output_type": "stream",
     "text": [
      "/anaconda/lib/python3.6/site-packages/ipykernel_launcher.py:3: RuntimeWarning: divide by zero encountered in log\n",
      "  This is separate from the ipykernel package so we can avoid doing imports until\n"
     ]
    },
    {
     "data": {
      "image/png": "[encoded data removed]",
      "text/plain": [
       "<matplotlib.figure.Figure at 0x112914e10>"
      ]
     },
     "metadata": {},
     "output_type": "display_data"
    }
   ],
   "source": [
    "x = np.linspace(0,2,100)\n",
    "plt.subplot(2,2,1)\n",
    "plt.plot(x, np.log(x))\n",
    "plt.title('Logaritmo')\n",
    "plt.subplot(2,2,2)\n",
    "plt.plot(x,np.exp(x))\n",
    "plt.title('Exponencial')\n",
    "plt.subplot(2,2,3)\n",
    "plt.plot(x, np.cos(x))\n",
    "plt.title('Coseno')\n",
    "plt.subplot(2,2,4)\n",
    "plt.plot(x, np.sin(x))\n",
    "plt.title('Seno')\n",
    "plt.show()"
   ]
  },
  {
   "cell_type": "code",
   "execution_count": null,
   "metadata": {
    "collapsed": true
   },
   "outputs": [],
   "source": []
  }
 ],
 "metadata": {
  "kernelspec": {
   "display_name": "Python 3",
   "language": "python",
   "name": "python3"
  },
  "language_info": {
   "codemirror_mode": {
    "name": "ipython",
    "version": 3
   },
   "file_extension": ".py",
   "mimetype": "text/x-python",
   "name": "python",
   "nbconvert_exporter": "python",
   "pygments_lexer": "ipython3",
   "version": "3.6.1"
  }
 },
 "nbformat": 4,
 "nbformat_minor": 2
}
