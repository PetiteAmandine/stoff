{
 "cells": [
  {
   "cell_type": "code",
   "execution_count": 1,
   "metadata": {
    "collapsed": true
   },
   "outputs": [],
   "source": [
    "#1) ¿Cuántas palabras tiene La Iliada?\n",
    "#2) ¿Cuántas de ellas son úincas?\n",
    "#3) ¿Cuáles son las 20 más usadas?"
   ]
  },
  {
   "cell_type": "code",
   "execution_count": 2,
   "metadata": {
    "collapsed": true
   },
   "outputs": [],
   "source": [
    "import pandas as pd"
   ]
  },
  {
   "cell_type": "code",
   "execution_count": 108,
   "metadata": {
    "collapsed": true
   },
   "outputs": [],
   "source": [
    "def limpia_texto (texto):\n",
    "    texto = texto.lower()\n",
    "    texto = texto.replace('•', ' ')\n",
    "    texto = texto.replace('■', ' ')\n",
    "    texto = texto.replace('#', ' ')\n",
    "    texto = texto.replace('€', ' ')\n",
    "    texto = texto.replace('™', ' ')\n",
    "    texto = texto.replace('º', ' ')\n",
    "    texto = texto.replace('°', ' ')\n",
    "    texto = texto.replace('►', ' ')\n",
    "    texto = texto.replace('♦', ' ')\n",
    "    texto = texto.replace('·', ' ')\n",
    "    texto = texto.replace('%', ' ')\n",
    "    texto = texto.replace('$', ' ')\n",
    "    texto = texto.replace('*', ' ')\n",
    "    texto = texto.replace(',', ' ')\n",
    "    texto = texto.replace(';', ' ')\n",
    "    texto = texto.replace(':', ' ')\n",
    "    texto = texto.replace('\"', ' ')\n",
    "    texto = texto.replace('¿', ' ')\n",
    "    texto = texto.replace('?', ' ')\n",
    "    texto = texto.replace('¡', ' ')\n",
    "    texto = texto.replace('!', ' ')\n",
    "    texto = texto.replace('\\n', ' ')\n",
    "    texto = texto.replace('-', ' ')\n",
    "    texto = texto.replace('–', ' ')\n",
    "    texto = texto.replace(':', ' ')\n",
    "    texto = texto.replace('1', ' ')\n",
    "    texto = texto.replace('2', ' ')\n",
    "    texto = texto.replace('3', ' ')\n",
    "    texto = texto.replace('4', ' ')\n",
    "    texto = texto.replace('5', ' ')\n",
    "    texto = texto.replace('6', ' ')\n",
    "    texto = texto.replace('7', ' ')\n",
    "    texto = texto.replace('8', ' ')\n",
    "    texto = texto.replace('9', ' ')\n",
    "    texto = texto.replace('0', ' ')\n",
    "    return texto"
   ]
  },
  {
   "cell_type": "code",
   "execution_count": 109,
   "metadata": {},
   "outputs": [],
   "source": [
    "#Abro, preparo y depuro el texto\n",
    "with open('datos/iliada.txt') as i:\n",
    "    iliada = i.read()\n",
    "iliada = limpia_texto(iliada)"
   ]
  },
  {
   "cell_type": "code",
   "execution_count": 110,
   "metadata": {},
   "outputs": [
    {
     "name": "stdout",
     "output_type": "stream",
     "text": [
      "1) Número de palabras: 200667\n"
     ]
    }
   ],
   "source": [
    "#Paso el texto a una lista para contar palabras\n",
    "palabras_lis = iliada.split(' ')\n",
    "print('1) Número de palabras: ' + str(len(palabras_lis)))"
   ]
  },
  {
   "cell_type": "code",
   "execution_count": 111,
   "metadata": {},
   "outputs": [
    {
     "name": "stdout",
     "output_type": "stream",
     "text": [
      "2) Palabras distintas: 19209\n"
     ]
    }
   ],
   "source": [
    "#Paso la lista a un set para contar palabras únicas\n",
    "palabras_set = set(palabras_lis)\n",
    "print('2) Palabras distintas: ' + str(len(palabras_set)))"
   ]
  },
  {
   "cell_type": "code",
   "execution_count": 112,
   "metadata": {},
   "outputs": [
    {
     "name": "stdout",
     "output_type": "stream",
     "text": [
      "3) Las 20 palabras más usadas son: \n",
      "\n"
     ]
    },
    {
     "data": {
      "text/plain": [
       "palabras\n",
       "        49902\n",
       "de       6881\n",
       "y        6589\n",
       "la       4944\n",
       "a        4692\n",
       "el       4552\n",
       "los      4272\n",
       "que      3953\n",
       "en       3254\n",
       "las      1742\n",
       "con      1709\n",
       "se       1660\n",
       "por      1419\n",
       "al       1394\n",
       "del      1378\n",
       "no       1313\n",
       "su       1031\n",
       "un        944\n",
       "le        873\n",
       "para      732\n",
       "Name: ocurrencia, dtype: int64"
      ]
     },
     "execution_count": 112,
     "metadata": {},
     "output_type": "execute_result"
    }
   ],
   "source": [
    "#Paso la lista a un dataframe para contar frecuencia\n",
    "pan_lista = pd.DataFrame({'palabras': palabras_lis, 'ocurrencia': 1})\n",
    "print('3) Las 20 palabras más usadas son: \\n')\n",
    "pan_lista.groupby('palabras')['ocurrencia'].count().sort_values(ascending = False).head(20)"
   ]
  },
  {
   "cell_type": "code",
   "execution_count": null,
   "metadata": {
    "collapsed": true
   },
   "outputs": [],
   "source": []
  }
 ],
 "metadata": {
  "kernelspec": {
   "display_name": "Python 3",
   "language": "python",
   "name": "python3"
  },
  "language_info": {
   "codemirror_mode": {
    "name": "ipython",
    "version": 3
   },
   "file_extension": ".py",
   "mimetype": "text/x-python",
   "name": "python",
   "nbconvert_exporter": "python",
   "pygments_lexer": "ipython3",
   "version": "3.6.1"
  }
 },
 "nbformat": 4,
 "nbformat_minor": 2
}
