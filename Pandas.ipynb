{
 "cells": [
  {
   "cell_type": "code",
   "execution_count": 1,
   "metadata": {
    "collapsed": true
   },
   "outputs": [],
   "source": [
    "import pandas as pd\n",
    "import matplotlib.pyplot as plt"
   ]
  },
  {
   "cell_type": "code",
   "execution_count": 3,
   "metadata": {},
   "outputs": [
    {
     "data": {
      "text/html": [
       "<div>\n",
       "<style>\n",
       "    .dataframe thead tr:only-child th {\n",
       "        text-align: right;\n",
       "    }\n",
       "\n",
       "    .dataframe thead th {\n",
       "        text-align: left;\n",
       "    }\n",
       "\n",
       "    .dataframe tbody tr th {\n",
       "        vertical-align: top;\n",
       "    }\n",
       "</style>\n",
       "<table border=\"1\" class=\"dataframe\">\n",
       "  <thead>\n",
       "    <tr style=\"text-align: right;\">\n",
       "      <th></th>\n",
       "      <th>var1</th>\n",
       "      <th>var2</th>\n",
       "    </tr>\n",
       "  </thead>\n",
       "  <tbody>\n",
       "    <tr>\n",
       "      <th>0</th>\n",
       "      <td>1</td>\n",
       "      <td>10</td>\n",
       "    </tr>\n",
       "    <tr>\n",
       "      <th>1</th>\n",
       "      <td>2</td>\n",
       "      <td>20</td>\n",
       "    </tr>\n",
       "    <tr>\n",
       "      <th>2</th>\n",
       "      <td>3</td>\n",
       "      <td>30</td>\n",
       "    </tr>\n",
       "    <tr>\n",
       "      <th>3</th>\n",
       "      <td>4</td>\n",
       "      <td>40</td>\n",
       "    </tr>\n",
       "    <tr>\n",
       "      <th>4</th>\n",
       "      <td>5</td>\n",
       "      <td>50</td>\n",
       "    </tr>\n",
       "  </tbody>\n",
       "</table>\n",
       "</div>"
      ],
      "text/plain": [
       "   var1  var2\n",
       "0     1    10\n",
       "1     2    20\n",
       "2     3    30\n",
       "3     4    40\n",
       "4     5    50"
      ]
     },
     "execution_count": 3,
     "metadata": {},
     "output_type": "execute_result"
    }
   ],
   "source": [
    "pd.DataFrame({\n",
    "    'var1': [1,2,3,4,5],\n",
    "    'var2': [10,20,30,40,50]\n",
    "})"
   ]
  },
  {
   "cell_type": "code",
   "execution_count": 4,
   "metadata": {
    "collapsed": true
   },
   "outputs": [],
   "source": [
    "delitos = pd.DataFrame.from_csv(\"datos/hartnagel.csv\")"
   ]
  },
  {
   "cell_type": "code",
   "execution_count": 7,
   "metadata": {},
   "outputs": [
    {
     "data": {
      "text/html": [
       "<div>\n",
       "<style>\n",
       "    .dataframe thead tr:only-child th {\n",
       "        text-align: right;\n",
       "    }\n",
       "\n",
       "    .dataframe thead th {\n",
       "        text-align: left;\n",
       "    }\n",
       "\n",
       "    .dataframe tbody tr th {\n",
       "        vertical-align: top;\n",
       "    }\n",
       "</style>\n",
       "<table border=\"1\" class=\"dataframe\">\n",
       "  <thead>\n",
       "    <tr style=\"text-align: right;\">\n",
       "      <th></th>\n",
       "      <th>year</th>\n",
       "      <th>tfr</th>\n",
       "      <th>partic</th>\n",
       "      <th>degrees</th>\n",
       "      <th>fconvict</th>\n",
       "      <th>ftheft</th>\n",
       "      <th>mconvict</th>\n",
       "      <th>mtheft</th>\n",
       "    </tr>\n",
       "  </thead>\n",
       "  <tbody>\n",
       "    <tr>\n",
       "      <th>1</th>\n",
       "      <td>1931</td>\n",
       "      <td>3200</td>\n",
       "      <td>234</td>\n",
       "      <td>12.4</td>\n",
       "      <td>77.1</td>\n",
       "      <td>NaN</td>\n",
       "      <td>778.7</td>\n",
       "      <td>NaN</td>\n",
       "    </tr>\n",
       "    <tr>\n",
       "      <th>2</th>\n",
       "      <td>1932</td>\n",
       "      <td>3084</td>\n",
       "      <td>234</td>\n",
       "      <td>12.9</td>\n",
       "      <td>92.9</td>\n",
       "      <td>NaN</td>\n",
       "      <td>745.7</td>\n",
       "      <td>NaN</td>\n",
       "    </tr>\n",
       "  </tbody>\n",
       "</table>\n",
       "</div>"
      ],
      "text/plain": [
       "   year   tfr  partic  degrees  fconvict  ftheft  mconvict  mtheft\n",
       "1  1931  3200     234     12.4      77.1     NaN     778.7     NaN\n",
       "2  1932  3084     234     12.9      92.9     NaN     745.7     NaN"
      ]
     },
     "execution_count": 7,
     "metadata": {},
     "output_type": "execute_result"
    }
   ],
   "source": [
    "delitos.head(2)"
   ]
  },
  {
   "cell_type": "code",
   "execution_count": 8,
   "metadata": {},
   "outputs": [
    {
     "data": {
      "text/plain": [
       "Index(['year', 'tfr', 'partic', 'degrees', 'fconvict', 'ftheft', 'mconvict',\n",
       "       'mtheft'],\n",
       "      dtype='object')"
      ]
     },
     "execution_count": 8,
     "metadata": {},
     "output_type": "execute_result"
    }
   ],
   "source": [
    "delitos.columns"
   ]
  },
  {
   "cell_type": "code",
   "execution_count": 9,
   "metadata": {},
   "outputs": [
    {
     "data": {
      "text/plain": [
       "1     1931\n",
       "2     1932\n",
       "3     1933\n",
       "4     1934\n",
       "5     1935\n",
       "6     1936\n",
       "7     1937\n",
       "8     1938\n",
       "9     1939\n",
       "10    1940\n",
       "11    1941\n",
       "12    1942\n",
       "13    1943\n",
       "14    1944\n",
       "15    1945\n",
       "16    1946\n",
       "17    1947\n",
       "18    1948\n",
       "19    1949\n",
       "20    1950\n",
       "21    1951\n",
       "22    1952\n",
       "23    1953\n",
       "24    1954\n",
       "25    1955\n",
       "26    1956\n",
       "27    1957\n",
       "28    1958\n",
       "29    1959\n",
       "30    1960\n",
       "31    1961\n",
       "32    1962\n",
       "33    1963\n",
       "34    1964\n",
       "35    1965\n",
       "36    1966\n",
       "37    1967\n",
       "38    1968\n",
       "Name: year, dtype: int64"
      ]
     },
     "execution_count": 9,
     "metadata": {},
     "output_type": "execute_result"
    }
   ],
   "source": [
    "delitos.year"
   ]
  },
  {
   "cell_type": "code",
   "execution_count": 10,
   "metadata": {},
   "outputs": [
    {
     "data": {
      "text/plain": [
       "1     1931\n",
       "2     1932\n",
       "3     1933\n",
       "4     1934\n",
       "5     1935\n",
       "6     1936\n",
       "7     1937\n",
       "8     1938\n",
       "9     1939\n",
       "10    1940\n",
       "11    1941\n",
       "12    1942\n",
       "13    1943\n",
       "14    1944\n",
       "15    1945\n",
       "16    1946\n",
       "17    1947\n",
       "18    1948\n",
       "19    1949\n",
       "20    1950\n",
       "21    1951\n",
       "22    1952\n",
       "23    1953\n",
       "24    1954\n",
       "25    1955\n",
       "26    1956\n",
       "27    1957\n",
       "28    1958\n",
       "29    1959\n",
       "30    1960\n",
       "31    1961\n",
       "32    1962\n",
       "33    1963\n",
       "34    1964\n",
       "35    1965\n",
       "36    1966\n",
       "37    1967\n",
       "38    1968\n",
       "Name: year, dtype: int64"
      ]
     },
     "execution_count": 10,
     "metadata": {},
     "output_type": "execute_result"
    }
   ],
   "source": [
    "delitos['year']"
   ]
  },
  {
   "cell_type": "code",
   "execution_count": 14,
   "metadata": {},
   "outputs": [
    {
     "data": {
      "text/html": [
       "<div>\n",
       "<style>\n",
       "    .dataframe thead tr:only-child th {\n",
       "        text-align: right;\n",
       "    }\n",
       "\n",
       "    .dataframe thead th {\n",
       "        text-align: left;\n",
       "    }\n",
       "\n",
       "    .dataframe tbody tr th {\n",
       "        vertical-align: top;\n",
       "    }\n",
       "</style>\n",
       "<table border=\"1\" class=\"dataframe\">\n",
       "  <thead>\n",
       "    <tr style=\"text-align: right;\">\n",
       "      <th></th>\n",
       "      <th>Year</th>\n",
       "      <th>tfr</th>\n",
       "      <th>partic</th>\n",
       "      <th>degrees</th>\n",
       "      <th>fconvict</th>\n",
       "      <th>ftheft</th>\n",
       "      <th>mconvict</th>\n",
       "      <th>mtheft</th>\n",
       "    </tr>\n",
       "  </thead>\n",
       "  <tbody>\n",
       "    <tr>\n",
       "      <th>1</th>\n",
       "      <td>1931</td>\n",
       "      <td>3200</td>\n",
       "      <td>234</td>\n",
       "      <td>12.4</td>\n",
       "      <td>77.1</td>\n",
       "      <td>NaN</td>\n",
       "      <td>778.7</td>\n",
       "      <td>NaN</td>\n",
       "    </tr>\n",
       "    <tr>\n",
       "      <th>2</th>\n",
       "      <td>1932</td>\n",
       "      <td>3084</td>\n",
       "      <td>234</td>\n",
       "      <td>12.9</td>\n",
       "      <td>92.9</td>\n",
       "      <td>NaN</td>\n",
       "      <td>745.7</td>\n",
       "      <td>NaN</td>\n",
       "    </tr>\n",
       "  </tbody>\n",
       "</table>\n",
       "</div>"
      ],
      "text/plain": [
       "   Year   tfr  partic  degrees  fconvict  ftheft  mconvict  mtheft\n",
       "1  1931  3200     234     12.4      77.1     NaN     778.7     NaN\n",
       "2  1932  3084     234     12.9      92.9     NaN     745.7     NaN"
      ]
     },
     "execution_count": 14,
     "metadata": {},
     "output_type": "execute_result"
    }
   ],
   "source": [
    "delitos.rename(columns = {'year': 'Year'}).head(2)"
   ]
  },
  {
   "cell_type": "code",
   "execution_count": 15,
   "metadata": {},
   "outputs": [
    {
     "data": {
      "image/png": "[encoded data removed]",
      "text/plain": [
       "<matplotlib.figure.Figure at 0x10dab94e0>"
      ]
     },
     "metadata": {},
     "output_type": "display_data"
    }
   ],
   "source": [
    "plt.plot(delitos.year, delitos.mconvict)\n",
    "plt.plot(delitos.year, delitos.fconvict)\n",
    "plt.show()"
   ]
  },
  {
   "cell_type": "code",
   "execution_count": 17,
   "metadata": {},
   "outputs": [
    {
     "data": {
      "text/html": [
       "<div>\n",
       "<style>\n",
       "    .dataframe thead tr:only-child th {\n",
       "        text-align: right;\n",
       "    }\n",
       "\n",
       "    .dataframe thead th {\n",
       "        text-align: left;\n",
       "    }\n",
       "\n",
       "    .dataframe tbody tr th {\n",
       "        vertical-align: top;\n",
       "    }\n",
       "</style>\n",
       "<table border=\"1\" class=\"dataframe\">\n",
       "  <thead>\n",
       "    <tr style=\"text-align: right;\">\n",
       "      <th></th>\n",
       "      <th>year</th>\n",
       "      <th>mconvict</th>\n",
       "    </tr>\n",
       "  </thead>\n",
       "  <tbody>\n",
       "    <tr>\n",
       "      <th>1</th>\n",
       "      <td>1931</td>\n",
       "      <td>778.7</td>\n",
       "    </tr>\n",
       "    <tr>\n",
       "      <th>2</th>\n",
       "      <td>1932</td>\n",
       "      <td>745.7</td>\n",
       "    </tr>\n",
       "    <tr>\n",
       "      <th>3</th>\n",
       "      <td>1933</td>\n",
       "      <td>768.3</td>\n",
       "    </tr>\n",
       "    <tr>\n",
       "      <th>4</th>\n",
       "      <td>1934</td>\n",
       "      <td>733.6</td>\n",
       "    </tr>\n",
       "    <tr>\n",
       "      <th>5</th>\n",
       "      <td>1935</td>\n",
       "      <td>765.7</td>\n",
       "    </tr>\n",
       "  </tbody>\n",
       "</table>\n",
       "</div>"
      ],
      "text/plain": [
       "   year  mconvict\n",
       "1  1931     778.7\n",
       "2  1932     745.7\n",
       "3  1933     768.3\n",
       "4  1934     733.6\n",
       "5  1935     765.7"
      ]
     },
     "execution_count": 17,
     "metadata": {},
     "output_type": "execute_result"
    }
   ],
   "source": [
    "delitos[['year', 'mconvict']].head()"
   ]
  },
  {
   "cell_type": "code",
   "execution_count": 42,
   "metadata": {},
   "outputs": [
    {
     "data": {
      "text/html": [
       "<div>\n",
       "<style>\n",
       "    .dataframe thead tr:only-child th {\n",
       "        text-align: right;\n",
       "    }\n",
       "\n",
       "    .dataframe thead th {\n",
       "        text-align: left;\n",
       "    }\n",
       "\n",
       "    .dataframe tbody tr th {\n",
       "        vertical-align: top;\n",
       "    }\n",
       "</style>\n",
       "<table border=\"1\" class=\"dataframe\">\n",
       "  <thead>\n",
       "    <tr style=\"text-align: right;\">\n",
       "      <th></th>\n",
       "      <th>year</th>\n",
       "      <th>mconvict</th>\n",
       "    </tr>\n",
       "  </thead>\n",
       "  <tbody>\n",
       "    <tr>\n",
       "      <th>31</th>\n",
       "      <td>1961</td>\n",
       "      <td>789.8</td>\n",
       "    </tr>\n",
       "    <tr>\n",
       "      <th>32</th>\n",
       "      <td>1962</td>\n",
       "      <td>776.8</td>\n",
       "    </tr>\n",
       "    <tr>\n",
       "      <th>33</th>\n",
       "      <td>1963</td>\n",
       "      <td>842.2</td>\n",
       "    </tr>\n",
       "    <tr>\n",
       "      <th>34</th>\n",
       "      <td>1964</td>\n",
       "      <td>799.1</td>\n",
       "    </tr>\n",
       "    <tr>\n",
       "      <th>35</th>\n",
       "      <td>1965</td>\n",
       "      <td>763.0</td>\n",
       "    </tr>\n",
       "    <tr>\n",
       "      <th>36</th>\n",
       "      <td>1966</td>\n",
       "      <td>804.6</td>\n",
       "    </tr>\n",
       "  </tbody>\n",
       "</table>\n",
       "</div>"
      ],
      "text/plain": [
       "    year  mconvict\n",
       "31  1961     789.8\n",
       "32  1962     776.8\n",
       "33  1963     842.2\n",
       "34  1964     799.1\n",
       "35  1965     763.0\n",
       "36  1966     804.6"
      ]
     },
     "execution_count": 42,
     "metadata": {},
     "output_type": "execute_result"
    }
   ],
   "source": [
    "delitos[(delitos.year > 1960) & (delitos.year < 1967)][['year', 'mconvict']]"
   ]
  },
  {
   "cell_type": "code",
   "execution_count": 43,
   "metadata": {},
   "outputs": [
    {
     "data": {
      "text/plain": [
       "31    1961\n",
       "32    1962\n",
       "33    1963\n",
       "34    1964\n",
       "35    1965\n",
       "36    1966\n",
       "Name: year, dtype: int64"
      ]
     },
     "execution_count": 43,
     "metadata": {},
     "output_type": "execute_result"
    }
   ],
   "source": [
    "delitos[(delitos.year > 1960) & (delitos.year < 1967)].year"
   ]
  },
  {
   "cell_type": "code",
   "execution_count": 29,
   "metadata": {},
   "outputs": [
    {
     "data": {
      "text/html": [
       "<div>\n",
       "<style>\n",
       "    .dataframe thead tr:only-child th {\n",
       "        text-align: right;\n",
       "    }\n",
       "\n",
       "    .dataframe thead th {\n",
       "        text-align: left;\n",
       "    }\n",
       "\n",
       "    .dataframe tbody tr th {\n",
       "        vertical-align: top;\n",
       "    }\n",
       "</style>\n",
       "<table border=\"1\" class=\"dataframe\">\n",
       "  <thead>\n",
       "    <tr style=\"text-align: right;\">\n",
       "      <th></th>\n",
       "      <th>year</th>\n",
       "      <th>tfr</th>\n",
       "      <th>partic</th>\n",
       "      <th>degrees</th>\n",
       "      <th>fconvict</th>\n",
       "      <th>ftheft</th>\n",
       "      <th>mconvict</th>\n",
       "      <th>mtheft</th>\n",
       "      <th>decada</th>\n",
       "    </tr>\n",
       "  </thead>\n",
       "  <tbody>\n",
       "    <tr>\n",
       "      <th>1</th>\n",
       "      <td>1931</td>\n",
       "      <td>3200</td>\n",
       "      <td>234</td>\n",
       "      <td>12.4</td>\n",
       "      <td>77.1</td>\n",
       "      <td>NaN</td>\n",
       "      <td>778.7</td>\n",
       "      <td>NaN</td>\n",
       "      <td>193</td>\n",
       "    </tr>\n",
       "    <tr>\n",
       "      <th>2</th>\n",
       "      <td>1932</td>\n",
       "      <td>3084</td>\n",
       "      <td>234</td>\n",
       "      <td>12.9</td>\n",
       "      <td>92.9</td>\n",
       "      <td>NaN</td>\n",
       "      <td>745.7</td>\n",
       "      <td>NaN</td>\n",
       "      <td>193</td>\n",
       "    </tr>\n",
       "    <tr>\n",
       "      <th>3</th>\n",
       "      <td>1933</td>\n",
       "      <td>2864</td>\n",
       "      <td>235</td>\n",
       "      <td>13.9</td>\n",
       "      <td>98.3</td>\n",
       "      <td>NaN</td>\n",
       "      <td>768.3</td>\n",
       "      <td>NaN</td>\n",
       "      <td>193</td>\n",
       "    </tr>\n",
       "    <tr>\n",
       "      <th>4</th>\n",
       "      <td>1934</td>\n",
       "      <td>2803</td>\n",
       "      <td>237</td>\n",
       "      <td>13.6</td>\n",
       "      <td>88.1</td>\n",
       "      <td>NaN</td>\n",
       "      <td>733.6</td>\n",
       "      <td>NaN</td>\n",
       "      <td>193</td>\n",
       "    </tr>\n",
       "    <tr>\n",
       "      <th>5</th>\n",
       "      <td>1935</td>\n",
       "      <td>2755</td>\n",
       "      <td>238</td>\n",
       "      <td>13.2</td>\n",
       "      <td>79.4</td>\n",
       "      <td>20.4</td>\n",
       "      <td>765.7</td>\n",
       "      <td>247.1</td>\n",
       "      <td>193</td>\n",
       "    </tr>\n",
       "  </tbody>\n",
       "</table>\n",
       "</div>"
      ],
      "text/plain": [
       "   year   tfr  partic  degrees  fconvict  ftheft  mconvict  mtheft  decada\n",
       "1  1931  3200     234     12.4      77.1     NaN     778.7     NaN     193\n",
       "2  1932  3084     234     12.9      92.9     NaN     745.7     NaN     193\n",
       "3  1933  2864     235     13.9      98.3     NaN     768.3     NaN     193\n",
       "4  1934  2803     237     13.6      88.1     NaN     733.6     NaN     193\n",
       "5  1935  2755     238     13.2      79.4    20.4     765.7   247.1     193"
      ]
     },
     "execution_count": 29,
     "metadata": {},
     "output_type": "execute_result"
    }
   ],
   "source": [
    "delitos['decada'] = delitos.year/10\n",
    "delitos.decada = delitos.decada.astype(int)\n",
    "delitos.head(5)"
   ]
  },
  {
   "cell_type": "code",
   "execution_count": 37,
   "metadata": {},
   "outputs": [
    {
     "data": {
      "text/html": [
       "<div>\n",
       "<style>\n",
       "    .dataframe thead tr:only-child th {\n",
       "        text-align: right;\n",
       "    }\n",
       "\n",
       "    .dataframe thead th {\n",
       "        text-align: left;\n",
       "    }\n",
       "\n",
       "    .dataframe tbody tr th {\n",
       "        vertical-align: top;\n",
       "    }\n",
       "</style>\n",
       "<table border=\"1\" class=\"dataframe\">\n",
       "  <thead>\n",
       "    <tr style=\"text-align: right;\">\n",
       "      <th></th>\n",
       "      <th>year</th>\n",
       "      <th>tfr</th>\n",
       "      <th>partic</th>\n",
       "      <th>degrees</th>\n",
       "      <th>fconvict</th>\n",
       "      <th>ftheft</th>\n",
       "      <th>mconvict</th>\n",
       "      <th>mtheft</th>\n",
       "      <th>decada</th>\n",
       "      <th>prueba</th>\n",
       "    </tr>\n",
       "  </thead>\n",
       "  <tbody>\n",
       "    <tr>\n",
       "      <th>1</th>\n",
       "      <td>1931</td>\n",
       "      <td>3200</td>\n",
       "      <td>234</td>\n",
       "      <td>12.4</td>\n",
       "      <td>77.1</td>\n",
       "      <td>NaN</td>\n",
       "      <td>778.7</td>\n",
       "      <td>NaN</td>\n",
       "      <td>193</td>\n",
       "      <td>19300</td>\n",
       "    </tr>\n",
       "    <tr>\n",
       "      <th>2</th>\n",
       "      <td>1932</td>\n",
       "      <td>3084</td>\n",
       "      <td>234</td>\n",
       "      <td>12.9</td>\n",
       "      <td>92.9</td>\n",
       "      <td>NaN</td>\n",
       "      <td>745.7</td>\n",
       "      <td>NaN</td>\n",
       "      <td>193</td>\n",
       "      <td>19300</td>\n",
       "    </tr>\n",
       "    <tr>\n",
       "      <th>3</th>\n",
       "      <td>1933</td>\n",
       "      <td>2864</td>\n",
       "      <td>235</td>\n",
       "      <td>13.9</td>\n",
       "      <td>98.3</td>\n",
       "      <td>NaN</td>\n",
       "      <td>768.3</td>\n",
       "      <td>NaN</td>\n",
       "      <td>193</td>\n",
       "      <td>19300</td>\n",
       "    </tr>\n",
       "    <tr>\n",
       "      <th>4</th>\n",
       "      <td>1934</td>\n",
       "      <td>2803</td>\n",
       "      <td>237</td>\n",
       "      <td>13.6</td>\n",
       "      <td>88.1</td>\n",
       "      <td>NaN</td>\n",
       "      <td>733.6</td>\n",
       "      <td>NaN</td>\n",
       "      <td>193</td>\n",
       "      <td>19300</td>\n",
       "    </tr>\n",
       "    <tr>\n",
       "      <th>5</th>\n",
       "      <td>1935</td>\n",
       "      <td>2755</td>\n",
       "      <td>238</td>\n",
       "      <td>13.2</td>\n",
       "      <td>79.4</td>\n",
       "      <td>20.4</td>\n",
       "      <td>765.7</td>\n",
       "      <td>247.1</td>\n",
       "      <td>193</td>\n",
       "      <td>19300</td>\n",
       "    </tr>\n",
       "  </tbody>\n",
       "</table>\n",
       "</div>"
      ],
      "text/plain": [
       "   year   tfr  partic  degrees  fconvict  ftheft  mconvict  mtheft  decada  \\\n",
       "1  1931  3200     234     12.4      77.1     NaN     778.7     NaN     193   \n",
       "2  1932  3084     234     12.9      92.9     NaN     745.7     NaN     193   \n",
       "3  1933  2864     235     13.9      98.3     NaN     768.3     NaN     193   \n",
       "4  1934  2803     237     13.6      88.1     NaN     733.6     NaN     193   \n",
       "5  1935  2755     238     13.2      79.4    20.4     765.7   247.1     193   \n",
       "\n",
       "   prueba  \n",
       "1   19300  \n",
       "2   19300  \n",
       "3   19300  \n",
       "4   19300  \n",
       "5   19300  "
      ]
     },
     "execution_count": 37,
     "metadata": {},
     "output_type": "execute_result"
    }
   ],
   "source": [
    "delitos['prueba'] = delitos.decada * 100\n",
    "delitos.drop('prueba', axis = 1)\n",
    "delitos.head()"
   ]
  },
  {
   "cell_type": "code",
   "execution_count": 39,
   "metadata": {},
   "outputs": [
    {
     "data": {
      "text/html": [
       "<div>\n",
       "<style>\n",
       "    .dataframe thead tr:only-child th {\n",
       "        text-align: right;\n",
       "    }\n",
       "\n",
       "    .dataframe thead th {\n",
       "        text-align: left;\n",
       "    }\n",
       "\n",
       "    .dataframe tbody tr th {\n",
       "        vertical-align: top;\n",
       "    }\n",
       "</style>\n",
       "<table border=\"1\" class=\"dataframe\">\n",
       "  <thead>\n",
       "    <tr style=\"text-align: right;\">\n",
       "      <th></th>\n",
       "      <th>mconvict</th>\n",
       "      <th>fconvict</th>\n",
       "    </tr>\n",
       "    <tr>\n",
       "      <th>decada</th>\n",
       "      <th></th>\n",
       "      <th></th>\n",
       "    </tr>\n",
       "  </thead>\n",
       "  <tbody>\n",
       "    <tr>\n",
       "      <th>193</th>\n",
       "      <td>824.755556</td>\n",
       "      <td>95.522222</td>\n",
       "    </tr>\n",
       "    <tr>\n",
       "      <th>194</th>\n",
       "      <td>861.960000</td>\n",
       "      <td>104.030000</td>\n",
       "    </tr>\n",
       "    <tr>\n",
       "      <th>195</th>\n",
       "      <td>716.080000</td>\n",
       "      <td>48.990000</td>\n",
       "    </tr>\n",
       "    <tr>\n",
       "      <th>196</th>\n",
       "      <td>794.322222</td>\n",
       "      <td>92.244444</td>\n",
       "    </tr>\n",
       "  </tbody>\n",
       "</table>\n",
       "</div>"
      ],
      "text/plain": [
       "          mconvict    fconvict\n",
       "decada                        \n",
       "193     824.755556   95.522222\n",
       "194     861.960000  104.030000\n",
       "195     716.080000   48.990000\n",
       "196     794.322222   92.244444"
      ]
     },
     "execution_count": 39,
     "metadata": {},
     "output_type": "execute_result"
    }
   ],
   "source": [
    "delitos.groupby('decada')[['mconvict', 'fconvict']].mean()"
   ]
  },
  {
   "cell_type": "code",
   "execution_count": null,
   "metadata": {
    "collapsed": true
   },
   "outputs": [],
   "source": []
  }
 ],
 "metadata": {
  "kernelspec": {
   "display_name": "Python 3",
   "language": "python",
   "name": "python3"
  },
  "language_info": {
   "codemirror_mode": {
    "name": "ipython",
    "version": 3
   },
   "file_extension": ".py",
   "mimetype": "text/x-python",
   "name": "python",
   "nbconvert_exporter": "python",
   "pygments_lexer": "ipython3",
   "version": "3.6.1"
  }
 },
 "nbformat": 4,
 "nbformat_minor": 2
}
